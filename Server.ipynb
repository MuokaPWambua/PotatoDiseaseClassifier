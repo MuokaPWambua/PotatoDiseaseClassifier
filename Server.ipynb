{
  "cells": [
    {
      "cell_type": "code",
      "execution_count": 26,
      "metadata": {
        "id": "hPvjHPohkxWz"
      },
      "outputs": [],
      "source": [
        "import tensorflow as tf\n",
        "import numpy as np"
      ]
    },
    {
      "cell_type": "code",
      "execution_count": 14,
      "metadata": {
        "id": "am0f8EnXnKdX"
      },
      "outputs": [],
      "source": [
        "# Importing the main model to use it\n",
        "model = tf.keras.models.load_model(\"/content/drive/MyDrive/Train_model/3\")"
      ]
    },
    {
      "cell_type": "code",
      "execution_count": 28,
      "metadata": {
        "colab": {
          "base_uri": "https://localhost:8080/"
        },
        "id": "GmIM_FmC5Grg",
        "outputId": "42b4362d-c55f-4167-9977-a4f0bc81e98f"
      },
      "outputs": [
        {
          "name": "stdout",
          "output_type": "stream",
          "text": [
            "Enter the path to the image: /content/b475147c-92bc-419a-b2c3-7d5aabbb79ec___RS_Early.B 7379.JPG\n",
            "1/1 [==============================] - 0s 47ms/step\n",
            "The Diseases predicted is : Potato Early blight\n"
          ]
        }
      ],
      "source": [
        "\n",
        "# Function to load and preprocess the user input image\n",
        "Your_Image_size=256\n",
        "class_names=['Potato Early blight', 'Potato Late blight', 'Potato healthy']\n",
        "def load_and_preprocess_image(image_path, target_size=(Your_Image_size, Your_Image_size)):\n",
        "    img = tf.keras.preprocessing.image.load_img(image_path, target_size=target_size)\n",
        "    img_array = tf.keras.preprocessing.image.img_to_array(img)\n",
        "    img_array = np.expand_dims(img_array, axis=0)\n",
        "    return img_array\n",
        "\n",
        "\n",
        "\n",
        "\n"
      ]
    },
    {
      "cell_type": "code",
      "execution_count": null,
      "metadata": {
        "id": "VMd0x9qw-Tme"
      },
      "outputs": [],
      "source": [
        "# Accepting user input for image path\n",
        "user_image_path = input(\"Enter the path to the image: \")\n",
        "\n",
        "# Load and preprocess the user input image\n",
        "user_image = load_and_preprocess_image(user_image_path)\n",
        "\n",
        "# Make prediction using the loaded model\n",
        "predicted_class= model.predict(user_image)\n",
        "pred=class_names[np.argmax(predicted_class[0])]\n",
        "# Display the prediction result\n",
        "print(f\"The Diseases predicted is : {pred}\")"
      ]
    }
  ],
  "metadata": {
    "colab": {
      "provenance": []
    },
    "kernelspec": {
      "display_name": "Python 3",
      "name": "python3"
    },
    "language_info": {
      "name": "python"
    }
  },
  "nbformat": 4,
  "nbformat_minor": 0
}
