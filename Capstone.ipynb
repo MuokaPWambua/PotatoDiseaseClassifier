{
  "cells": [
    {
      "cell_type": "code",
      "execution_count": null,
      "metadata": {
        "id": "79g7dAxB4Xi-"
      },
      "outputs": [],
      "source": [
        "import tensorflow as tf"
      ]
    },
    {
      "cell_type": "code",
      "execution_count": null,
      "metadata": {
        "id": "m0Z6U10DxwIX"
      },
      "outputs": [],
      "source": [
        "import numpy as np"
      ]
    },
    {
      "cell_type": "code",
      "execution_count": null,
      "metadata": {
        "id": "2kSzHhGb4ksw"
      },
      "outputs": [],
      "source": [
        "from tensorflow.keras import models,layers\n",
        "import matplotlib.pyplot as plt"
      ]
    },
    {
      "cell_type": "code",
      "execution_count": null,
      "metadata": {
        "id": "weZfU5_D43ng"
      },
      "outputs": [],
      "source": [
        "Image_size=256\n",
        "Batch_size=32\n",
        "Channels=3\n",
        "Epochs=50"
      ]
    },
    {
      "cell_type": "code",
      "execution_count": null,
      "metadata": {
        "colab": {
          "base_uri": "https://localhost:8080/"
        },
        "id": "JYmGdW2y8irE",
        "outputId": "6cf5723a-61c8-4c84-bf8f-94ec0e9db745"
      },
      "outputs": [
        {
          "name": "stdout",
          "output_type": "stream",
          "text": [
            "Found 900 files belonging to 3 classes.\n"
          ]
        }
      ],
      "source": [
        "train_dataset=tf.keras.preprocessing.image_dataset_from_directory(\n",
        "    \"/content/drive/MyDrive/Train\",\n",
        "    shuffle=True,\n",
        "    seed=123,\n",
        "    image_size=(Image_size,Image_size),\n",
        "    batch_size=Batch_size\n",
        ")\n",
        "class_names=train_dataset.class_names\n",
        "train_dataset=train_dataset.cache().shuffle(1000).prefetch(buffer_size=tf.data.AUTOTUNE)"
      ]
    },
    {
      "cell_type": "code",
      "execution_count": null,
      "metadata": {
        "colab": {
          "base_uri": "https://localhost:8080/"
        },
        "id": "1zcDowli9Lne",
        "outputId": "991ffb6e-8039-47fa-f6cd-60b07749ae60"
      },
      "outputs": [
        {
          "name": "stdout",
          "output_type": "stream",
          "text": [
            "Found 300 files belonging to 3 classes.\n"
          ]
        }
      ],
      "source": [
        "valid_dataset=tf.keras.preprocessing.image_dataset_from_directory(\n",
        "    \"/content/drive/MyDrive/Valid\",\n",
        "    shuffle=True,\n",
        "    seed=12,\n",
        "    image_size=(Image_size,Image_size),\n",
        "    batch_size=Batch_size\n",
        ")\n",
        "valid_dataset=valid_dataset.cache().shuffle(1000).prefetch(buffer_size=tf.data.AUTOTUNE)"
      ]
    },
    {
      "cell_type": "code",
      "execution_count": null,
      "metadata": {
        "id": "KaGA3VKtC7nx"
      },
      "outputs": [],
      "source": [
        "resize_and_rescale=tf.keras.Sequential([\n",
        "    layers.experimental.preprocessing.Resizing(Image_size,Image_size),\n",
        "    layers.experimental.preprocessing.Rescaling(1.0/255)\n",
        "])\n",
        "data_aug=tf.keras.Sequential([\n",
        "    layers.experimental.preprocessing.RandomFlip(\"horizontal_and_vertical\"),\n",
        "    layers.experimental.preprocessing.RandomRotation(0.2)\n",
        "])"
      ]
    },
    {
      "cell_type": "code",
      "execution_count": null,
      "metadata": {
        "id": "QJfLtphFWYQ4"
      },
      "outputs": [],
      "source": [
        "train_dataset = train_dataset.map(\n",
        "    lambda x, y: (data_aug(x, training=True), y)\n",
        ").prefetch(buffer_size=tf.data.AUTOTUNE)"
      ]
    },
    {
      "cell_type": "code",
      "execution_count": null,
      "metadata": {
        "id": "f6aqa_x1DkMw"
      },
      "outputs": [],
      "source": [
        "n_classes=3\n",
        "model=models.Sequential([\n",
        "    resize_and_rescale,\n",
        "    layers.Conv2D(32,kernel_size=(3,3),activation='relu',input_shape=(Batch_size,Image_size,Image_size,Channels)),\n",
        "    layers.MaxPooling2D((2,2)),\n",
        "    layers.Conv2D(64,kernel_size=(3,3),activation='relu'),\n",
        "    layers.MaxPooling2D((2,2)),\n",
        "    layers.Conv2D(64,kernel_size=(3,3),activation='relu'),\n",
        "    layers.MaxPooling2D((2,2)),\n",
        "    layers.Conv2D(64,kernel_size=(3,3),activation='relu'),\n",
        "    layers.MaxPooling2D((2,2)),\n",
        "    layers.Conv2D(64,kernel_size=(3,3),activation='relu'),\n",
        "    layers.MaxPooling2D((2,2)),\n",
        "    layers.Conv2D(64,kernel_size=(3,3),activation='relu'),\n",
        "    layers.MaxPooling2D((2,2)),\n",
        "    layers.Flatten(),\n",
        "    layers.Dense(64,activation='relu'),\n",
        "    layers.Dense(n_classes,activation='softmax')\n",
        "])\n",
        "model.build(input_shape=(Batch_size,Image_size,Image_size,Channels))"
      ]
    },
    {
      "cell_type": "code",
      "execution_count": null,
      "metadata": {
        "id": "yT9kK0oBe17U"
      },
      "outputs": [],
      "source": [
        "model.compile(\n",
        "    optimizer='adam',\n",
        "    loss=tf.keras.losses.SparseCategoricalCrossentropy(from_logits=False),\n",
        "    metrics=['accuracy']\n",
        ")"
      ]
    },
    {
      "cell_type": "code",
      "execution_count": null,
      "metadata": {
        "colab": {
          "background_save": true,
          "base_uri": "https://localhost:8080/"
        },
        "id": "HRG3aAaVfvqF",
        "outputId": "e79995dc-4c68-4e49-9922-d18a52e2c8c0"
      },
      "outputs": [
        {
          "name": "stdout",
          "output_type": "stream",
          "text": [
            "Epoch 1/50\n",
            "29/29 [==============================] - 324s 8s/step - loss: 1.0713 - accuracy: 0.3933 - val_loss: 0.9713 - val_accuracy: 0.3933\n",
            "Epoch 2/50\n",
            "29/29 [==============================] - 171s 6s/step - loss: 0.9079 - accuracy: 0.5478 - val_loss: 0.7863 - val_accuracy: 0.5933\n",
            "Epoch 3/50\n",
            "29/29 [==============================] - 162s 6s/step - loss: 0.7105 - accuracy: 0.6911 - val_loss: 0.5553 - val_accuracy: 0.7767\n",
            "Epoch 4/50\n",
            "29/29 [==============================] - 164s 6s/step - loss: 0.5822 - accuracy: 0.7322 - val_loss: 0.8517 - val_accuracy: 0.5633\n",
            "Epoch 5/50\n",
            "29/29 [==============================] - 172s 6s/step - loss: 0.5607 - accuracy: 0.7567 - val_loss: 0.6019 - val_accuracy: 0.7000\n",
            "Epoch 6/50\n",
            "29/29 [==============================] - 162s 6s/step - loss: 0.4422 - accuracy: 0.8111 - val_loss: 0.5840 - val_accuracy: 0.7267\n",
            "Epoch 7/50\n",
            "29/29 [==============================] - 164s 6s/step - loss: 0.3703 - accuracy: 0.8289 - val_loss: 0.3790 - val_accuracy: 0.8200\n",
            "Epoch 8/50\n",
            "29/29 [==============================] - 162s 6s/step - loss: 0.2726 - accuracy: 0.8878 - val_loss: 0.3173 - val_accuracy: 0.8633\n",
            "Epoch 9/50\n",
            "29/29 [==============================] - 153s 5s/step - loss: 0.2387 - accuracy: 0.9122 - val_loss: 0.3998 - val_accuracy: 0.8300\n",
            "Epoch 10/50\n",
            "29/29 [==============================] - 153s 5s/step - loss: 0.2793 - accuracy: 0.8778 - val_loss: 0.3357 - val_accuracy: 0.8467\n",
            "Epoch 11/50\n",
            "29/29 [==============================] - 151s 5s/step - loss: 0.2138 - accuracy: 0.9222 - val_loss: 0.2237 - val_accuracy: 0.9000\n",
            "Epoch 12/50\n",
            "29/29 [==============================] - 168s 6s/step - loss: 0.2211 - accuracy: 0.9200 - val_loss: 0.2104 - val_accuracy: 0.9067\n",
            "Epoch 13/50\n",
            "29/29 [==============================] - 154s 5s/step - loss: 0.2003 - accuracy: 0.9289 - val_loss: 0.2333 - val_accuracy: 0.9167\n",
            "Epoch 14/50\n",
            "29/29 [==============================] - 152s 5s/step - loss: 0.1847 - accuracy: 0.9311 - val_loss: 0.3345 - val_accuracy: 0.8533\n",
            "Epoch 15/50\n",
            "29/29 [==============================] - 168s 6s/step - loss: 0.1945 - accuracy: 0.9300 - val_loss: 0.2536 - val_accuracy: 0.9033\n",
            "Epoch 16/50\n",
            "29/29 [==============================] - 161s 6s/step - loss: 0.1636 - accuracy: 0.9411 - val_loss: 0.1631 - val_accuracy: 0.9367\n",
            "Epoch 17/50\n",
            "29/29 [==============================] - 159s 6s/step - loss: 0.1580 - accuracy: 0.9411 - val_loss: 0.2595 - val_accuracy: 0.9133\n",
            "Epoch 18/50\n",
            "29/29 [==============================] - 159s 6s/step - loss: 0.1809 - accuracy: 0.9356 - val_loss: 0.1457 - val_accuracy: 0.9467\n",
            "Epoch 19/50\n",
            "29/29 [==============================] - 166s 6s/step - loss: 0.1439 - accuracy: 0.9511 - val_loss: 0.1905 - val_accuracy: 0.9300\n",
            "Epoch 20/50\n",
            "29/29 [==============================] - 157s 5s/step - loss: 0.1024 - accuracy: 0.9656 - val_loss: 0.1901 - val_accuracy: 0.9333\n",
            "Epoch 21/50\n",
            "29/29 [==============================] - 159s 6s/step - loss: 0.1849 - accuracy: 0.9400 - val_loss: 0.4693 - val_accuracy: 0.8067\n",
            "Epoch 22/50\n",
            "29/29 [==============================] - 147s 5s/step - loss: 0.2599 - accuracy: 0.9122 - val_loss: 0.6017 - val_accuracy: 0.7633\n",
            "Epoch 23/50\n",
            "29/29 [==============================] - 157s 5s/step - loss: 0.2814 - accuracy: 0.8911 - val_loss: 0.2582 - val_accuracy: 0.9233\n",
            "Epoch 24/50\n",
            "29/29 [==============================] - 158s 5s/step - loss: 0.1813 - accuracy: 0.9289 - val_loss: 0.1672 - val_accuracy: 0.9300\n",
            "Epoch 25/50\n",
            "29/29 [==============================] - 158s 5s/step - loss: 0.1303 - accuracy: 0.9522 - val_loss: 0.2488 - val_accuracy: 0.9133\n",
            "Epoch 26/50\n",
            "29/29 [==============================] - 158s 5s/step - loss: 0.1796 - accuracy: 0.9311 - val_loss: 0.1579 - val_accuracy: 0.9300\n",
            "Epoch 27/50\n",
            "29/29 [==============================] - 159s 6s/step - loss: 0.1192 - accuracy: 0.9600 - val_loss: 0.1930 - val_accuracy: 0.9433\n",
            "Epoch 28/50\n",
            "29/29 [==============================] - 156s 5s/step - loss: 0.1164 - accuracy: 0.9600 - val_loss: 0.1330 - val_accuracy: 0.9367\n",
            "Epoch 29/50\n",
            "29/29 [==============================] - 147s 5s/step - loss: 0.1538 - accuracy: 0.9478 - val_loss: 0.0992 - val_accuracy: 0.9700\n",
            "Epoch 30/50\n",
            "29/29 [==============================] - 146s 5s/step - loss: 0.0768 - accuracy: 0.9756 - val_loss: 0.1465 - val_accuracy: 0.9633\n",
            "Epoch 31/50\n",
            "29/29 [==============================] - 157s 5s/step - loss: 0.0818 - accuracy: 0.9711 - val_loss: 0.1047 - val_accuracy: 0.9667\n",
            "Epoch 32/50\n",
            "29/29 [==============================] - 157s 5s/step - loss: 0.1658 - accuracy: 0.9333 - val_loss: 0.2288 - val_accuracy: 0.8900\n",
            "Epoch 33/50\n",
            "29/29 [==============================] - 157s 5s/step - loss: 0.1391 - accuracy: 0.9511 - val_loss: 0.1042 - val_accuracy: 0.9600\n",
            "Epoch 34/50\n",
            "29/29 [==============================] - 158s 5s/step - loss: 0.1644 - accuracy: 0.9444 - val_loss: 0.2198 - val_accuracy: 0.9133\n",
            "Epoch 35/50\n",
            "29/29 [==============================] - 157s 5s/step - loss: 0.0977 - accuracy: 0.9689 - val_loss: 0.0941 - val_accuracy: 0.9667\n",
            "Epoch 36/50\n",
            "29/29 [==============================] - 157s 5s/step - loss: 0.0698 - accuracy: 0.9711 - val_loss: 0.0705 - val_accuracy: 0.9700\n",
            "Epoch 37/50\n",
            "29/29 [==============================] - 157s 5s/step - loss: 0.1039 - accuracy: 0.9656 - val_loss: 0.1416 - val_accuracy: 0.9433\n",
            "Epoch 38/50\n",
            "29/29 [==============================] - 147s 5s/step - loss: 0.0885 - accuracy: 0.9700 - val_loss: 0.0782 - val_accuracy: 0.9767\n",
            "Epoch 39/50\n",
            "29/29 [==============================] - 148s 5s/step - loss: 0.0631 - accuracy: 0.9811 - val_loss: 0.0573 - val_accuracy: 0.9800\n",
            "Epoch 40/50\n",
            "29/29 [==============================] - 157s 5s/step - loss: 0.0621 - accuracy: 0.9733 - val_loss: 0.0812 - val_accuracy: 0.9733\n",
            "Epoch 41/50\n",
            "29/29 [==============================] - 158s 5s/step - loss: 0.0443 - accuracy: 0.9867 - val_loss: 0.0794 - val_accuracy: 0.9767\n",
            "Epoch 42/50\n",
            "29/29 [==============================] - 146s 5s/step - loss: 0.0557 - accuracy: 0.9800 - val_loss: 0.1017 - val_accuracy: 0.9667\n",
            "Epoch 43/50\n",
            "29/29 [==============================] - 156s 5s/step - loss: 0.1272 - accuracy: 0.9522 - val_loss: 0.1057 - val_accuracy: 0.9700\n",
            "Epoch 44/50\n",
            "29/29 [==============================] - 156s 5s/step - loss: 0.0601 - accuracy: 0.9767 - val_loss: 0.0481 - val_accuracy: 0.9833\n",
            "Epoch 45/50\n",
            "29/29 [==============================] - 156s 5s/step - loss: 0.0578 - accuracy: 0.9767 - val_loss: 0.0573 - val_accuracy: 0.9800\n",
            "Epoch 46/50\n",
            "29/29 [==============================] - 146s 5s/step - loss: 0.0906 - accuracy: 0.9622 - val_loss: 0.1052 - val_accuracy: 0.9500\n",
            "Epoch 47/50\n",
            "29/29 [==============================] - 147s 5s/step - loss: 0.0350 - accuracy: 0.9878 - val_loss: 0.0638 - val_accuracy: 0.9767\n",
            "Epoch 48/50\n",
            "29/29 [==============================] - 156s 5s/step - loss: 0.0359 - accuracy: 0.9844 - val_loss: 0.1318 - val_accuracy: 0.9533\n",
            "Epoch 49/50\n",
            "29/29 [==============================] - 154s 5s/step - loss: 0.0339 - accuracy: 0.9878 - val_loss: 0.0483 - val_accuracy: 0.9833\n",
            "Epoch 50/50\n",
            "29/29 [==============================] - 154s 5s/step - loss: 0.0253 - accuracy: 0.9889 - val_loss: 0.0900 - val_accuracy: 0.9700\n"
          ]
        }
      ],
      "source": [
        "history=model.fit(\n",
        "    train_dataset,\n",
        "    epochs=Epochs,\n",
        "    batch_size=Batch_size,\n",
        "    verbose=1,\n",
        "    validation_data=valid_dataset\n",
        ")"
      ]
    },
    {
      "cell_type": "code",
      "execution_count": null,
      "metadata": {
        "id": "yZHeoZiygROG"
      },
      "outputs": [],
      "source": [
        "def predict(img):\n",
        "  img=tf.keras.preprocessing.image.img_to_array(img)\n",
        "  img_arr=tf.expand_dims(img,0)\n",
        "  pred=model.predict(img_arr)\n",
        "  pred_class=class_names[np.argmax(pred[0])]\n",
        "  confidence=round(100*(np.max(pred[0])),2)\n",
        "  return pred_class, confidence"
      ]
    },
    {
      "cell_type": "code",
      "execution_count": null,
      "metadata": {
        "id": "306OGJbTzhVy"
      },
      "outputs": [],
      "source": []
    },
    {
      "cell_type": "code",
      "execution_count": null,
      "metadata": {
        "colab": {
          "base_uri": "https://localhost:8080/"
        },
        "id": "885fqoJq0rfG",
        "outputId": "5a98ea85-73dc-4ee9-a554-aab1b8ada27e"
      },
      "outputs": [
        {
          "name": "stderr",
          "output_type": "stream",
          "text": [
            "WARNING:absl:Found untraced functions such as _jit_compiled_convolution_op, _jit_compiled_convolution_op, _jit_compiled_convolution_op, _jit_compiled_convolution_op, _jit_compiled_convolution_op while saving (showing 5 of 7). These functions will not be directly callable after loading.\n"
          ]
        }
      ],
      "source": [
        "model_version=3\n",
        "model.save(f\"/content/drive/MyDrive/Train_model/{model_version}\")"
      ]
    },
    {
      "cell_type": "code",
      "execution_count": null,
      "metadata": {
        "id": "eV468gkc2dQC"
      },
      "outputs": [],
      "source": []
    },
    {
      "cell_type": "code",
      "execution_count": null,
      "metadata": {
        "id": "h19548du6eeP"
      },
      "outputs": [],
      "source": []
    }
  ],
  "metadata": {
    "accelerator": "TPU",
    "colab": {
      "provenance": []
    },
    "kernelspec": {
      "display_name": "Python 3",
      "name": "python3"
    },
    "language_info": {
      "name": "python"
    }
  },
  "nbformat": 4,
  "nbformat_minor": 0
}